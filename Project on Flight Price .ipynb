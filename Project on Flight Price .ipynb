{
 "cells": [
  {
   "cell_type": "markdown",
   "id": "a6dcb4b5",
   "metadata": {},
   "source": [
    "### INTRODUCTION"
   ]
  },
  {
   "cell_type": "markdown",
   "id": "b290ed7c",
   "metadata": {},
   "source": [
    "The objective of the study is to analyse the flight booking dataset obtained from “Ease My Trip” website and to conduct various statistical hypothesis tests in order to get meaningful information from it. The 'Linear Regression' statistical algorithm would be used to train the dataset and predict a continuous target variable. 'Easemytrip' is an internet platform for booking flight tickets, and hence a platform that potential passengers use to buy tickets. A thorough study of the data will aid in the discovery of valuable insights that will be of enormous value to passengers."
   ]
  },
  {
   "cell_type": "markdown",
   "id": "276e67b5",
   "metadata": {},
   "source": [
    "### Research Questions"
   ]
  },
  {
   "cell_type": "markdown",
   "id": "d20b6d4c",
   "metadata": {},
   "source": [
    "The aim of our study is to answer the below research questions:\n",
    "\n",
    "a) Does price vary with Airlines?\n",
    "\n",
    "b) How is the price affected when tickets are bought in just 1 or 2 days before departure?\n",
    "\n",
    "c) Does ticket price change based on the departure time and arrival time?\n",
    "\n",
    "d) How the price changes with change in Source and Destination?\n",
    "\n",
    "e) How does the ticket price vary between Economy and Business class?"
   ]
  },
  {
   "cell_type": "code",
   "execution_count": null,
   "id": "5d15d075",
   "metadata": {},
   "outputs": [],
   "source": [
    "import numpy as np\n",
    "import pandas as pd\n",
    "import matplotlib.pyplot as plt\n",
    "import seaborn as sns"
   ]
  },
  {
   "cell_type": "code",
   "execution_count": 3,
   "id": "a5f37f9c",
   "metadata": {},
   "outputs": [],
   "source": [
    "data = pd.read_csv('flight data.csv')"
   ]
  },
  {
   "cell_type": "code",
   "execution_count": 4,
   "id": "05fa8f00",
   "metadata": {
    "scrolled": false
   },
   "outputs": [
    {
     "data": {
      "text/html": [
       "<div>\n",
       "<style scoped>\n",
       "    .dataframe tbody tr th:only-of-type {\n",
       "        vertical-align: middle;\n",
       "    }\n",
       "\n",
       "    .dataframe tbody tr th {\n",
       "        vertical-align: top;\n",
       "    }\n",
       "\n",
       "    .dataframe thead th {\n",
       "        text-align: right;\n",
       "    }\n",
       "</style>\n",
       "<table border=\"1\" class=\"dataframe\">\n",
       "  <thead>\n",
       "    <tr style=\"text-align: right;\">\n",
       "      <th></th>\n",
       "      <th>Unnamed: 0</th>\n",
       "      <th>airline</th>\n",
       "      <th>flight</th>\n",
       "      <th>source_city</th>\n",
       "      <th>departure_time</th>\n",
       "      <th>stops</th>\n",
       "      <th>arrival_time</th>\n",
       "      <th>destination_city</th>\n",
       "      <th>class</th>\n",
       "      <th>duration</th>\n",
       "      <th>days_left</th>\n",
       "      <th>price</th>\n",
       "    </tr>\n",
       "  </thead>\n",
       "  <tbody>\n",
       "    <tr>\n",
       "      <th>0</th>\n",
       "      <td>0</td>\n",
       "      <td>SpiceJet</td>\n",
       "      <td>SG-8709</td>\n",
       "      <td>Delhi</td>\n",
       "      <td>Evening</td>\n",
       "      <td>zero</td>\n",
       "      <td>Night</td>\n",
       "      <td>Mumbai</td>\n",
       "      <td>Economy</td>\n",
       "      <td>2.17</td>\n",
       "      <td>1</td>\n",
       "      <td>5953</td>\n",
       "    </tr>\n",
       "    <tr>\n",
       "      <th>1</th>\n",
       "      <td>1</td>\n",
       "      <td>SpiceJet</td>\n",
       "      <td>SG-8157</td>\n",
       "      <td>Delhi</td>\n",
       "      <td>Early_Morning</td>\n",
       "      <td>zero</td>\n",
       "      <td>Morning</td>\n",
       "      <td>Mumbai</td>\n",
       "      <td>Economy</td>\n",
       "      <td>2.33</td>\n",
       "      <td>1</td>\n",
       "      <td>5953</td>\n",
       "    </tr>\n",
       "    <tr>\n",
       "      <th>2</th>\n",
       "      <td>2</td>\n",
       "      <td>AirAsia</td>\n",
       "      <td>I5-764</td>\n",
       "      <td>Delhi</td>\n",
       "      <td>Early_Morning</td>\n",
       "      <td>zero</td>\n",
       "      <td>Early_Morning</td>\n",
       "      <td>Mumbai</td>\n",
       "      <td>Economy</td>\n",
       "      <td>2.17</td>\n",
       "      <td>1</td>\n",
       "      <td>5956</td>\n",
       "    </tr>\n",
       "    <tr>\n",
       "      <th>3</th>\n",
       "      <td>3</td>\n",
       "      <td>Vistara</td>\n",
       "      <td>UK-995</td>\n",
       "      <td>Delhi</td>\n",
       "      <td>Morning</td>\n",
       "      <td>zero</td>\n",
       "      <td>Afternoon</td>\n",
       "      <td>Mumbai</td>\n",
       "      <td>Economy</td>\n",
       "      <td>2.25</td>\n",
       "      <td>1</td>\n",
       "      <td>5955</td>\n",
       "    </tr>\n",
       "    <tr>\n",
       "      <th>4</th>\n",
       "      <td>4</td>\n",
       "      <td>Vistara</td>\n",
       "      <td>UK-963</td>\n",
       "      <td>Delhi</td>\n",
       "      <td>Morning</td>\n",
       "      <td>zero</td>\n",
       "      <td>Morning</td>\n",
       "      <td>Mumbai</td>\n",
       "      <td>Economy</td>\n",
       "      <td>2.33</td>\n",
       "      <td>1</td>\n",
       "      <td>5955</td>\n",
       "    </tr>\n",
       "  </tbody>\n",
       "</table>\n",
       "</div>"
      ],
      "text/plain": [
       "   Unnamed: 0   airline   flight source_city departure_time stops  \\\n",
       "0           0  SpiceJet  SG-8709       Delhi        Evening  zero   \n",
       "1           1  SpiceJet  SG-8157       Delhi  Early_Morning  zero   \n",
       "2           2   AirAsia   I5-764       Delhi  Early_Morning  zero   \n",
       "3           3   Vistara   UK-995       Delhi        Morning  zero   \n",
       "4           4   Vistara   UK-963       Delhi        Morning  zero   \n",
       "\n",
       "    arrival_time destination_city    class  duration  days_left  price  \n",
       "0          Night           Mumbai  Economy      2.17          1   5953  \n",
       "1        Morning           Mumbai  Economy      2.33          1   5953  \n",
       "2  Early_Morning           Mumbai  Economy      2.17          1   5956  \n",
       "3      Afternoon           Mumbai  Economy      2.25          1   5955  \n",
       "4        Morning           Mumbai  Economy      2.33          1   5955  "
      ]
     },
     "execution_count": 4,
     "metadata": {},
     "output_type": "execute_result"
    }
   ],
   "source": [
    "data.head()"
   ]
  },
  {
   "cell_type": "code",
   "execution_count": 5,
   "id": "e8211798",
   "metadata": {},
   "outputs": [
    {
     "data": {
      "text/plain": [
       "(300153, 12)"
      ]
     },
     "execution_count": 5,
     "metadata": {},
     "output_type": "execute_result"
    }
   ],
   "source": [
    "data.shape"
   ]
  },
  {
   "cell_type": "code",
   "execution_count": 6,
   "id": "00046928",
   "metadata": {},
   "outputs": [
    {
     "data": {
      "text/plain": [
       "class                    2\n",
       "stops                    3\n",
       "airline                  6\n",
       "source_city              6\n",
       "departure_time           6\n",
       "arrival_time             6\n",
       "destination_city         6\n",
       "days_left               49\n",
       "duration               476\n",
       "flight                1561\n",
       "price                12157\n",
       "Unnamed: 0          300153\n",
       "dtype: int64"
      ]
     },
     "execution_count": 6,
     "metadata": {},
     "output_type": "execute_result"
    }
   ],
   "source": [
    "(data.nunique()).sort_values(ascending=True)"
   ]
  },
  {
   "cell_type": "code",
   "execution_count": 7,
   "id": "8c28f0d2",
   "metadata": {},
   "outputs": [
    {
     "name": "stdout",
     "output_type": "stream",
     "text": [
      "<class 'pandas.core.frame.DataFrame'>\n",
      "RangeIndex: 300153 entries, 0 to 300152\n",
      "Data columns (total 12 columns):\n",
      " #   Column            Non-Null Count   Dtype  \n",
      "---  ------            --------------   -----  \n",
      " 0   Unnamed: 0        300153 non-null  int64  \n",
      " 1   airline           300153 non-null  object \n",
      " 2   flight            300153 non-null  object \n",
      " 3   source_city       300153 non-null  object \n",
      " 4   departure_time    300153 non-null  object \n",
      " 5   stops             300153 non-null  object \n",
      " 6   arrival_time      300153 non-null  object \n",
      " 7   destination_city  300153 non-null  object \n",
      " 8   class             300153 non-null  object \n",
      " 9   duration          300153 non-null  float64\n",
      " 10  days_left         300153 non-null  int64  \n",
      " 11  price             300153 non-null  int64  \n",
      "dtypes: float64(1), int64(3), object(8)\n",
      "memory usage: 27.5+ MB\n"
     ]
    }
   ],
   "source": [
    "data.info()"
   ]
  },
  {
   "cell_type": "code",
   "execution_count": 8,
   "id": "b519a539",
   "metadata": {},
   "outputs": [
    {
     "data": {
      "text/html": [
       "<div>\n",
       "<style scoped>\n",
       "    .dataframe tbody tr th:only-of-type {\n",
       "        vertical-align: middle;\n",
       "    }\n",
       "\n",
       "    .dataframe tbody tr th {\n",
       "        vertical-align: top;\n",
       "    }\n",
       "\n",
       "    .dataframe thead th {\n",
       "        text-align: right;\n",
       "    }\n",
       "</style>\n",
       "<table border=\"1\" class=\"dataframe\">\n",
       "  <thead>\n",
       "    <tr style=\"text-align: right;\">\n",
       "      <th></th>\n",
       "      <th>count</th>\n",
       "      <th>mean</th>\n",
       "      <th>std</th>\n",
       "      <th>min</th>\n",
       "      <th>25%</th>\n",
       "      <th>50%</th>\n",
       "      <th>75%</th>\n",
       "      <th>max</th>\n",
       "    </tr>\n",
       "  </thead>\n",
       "  <tbody>\n",
       "    <tr>\n",
       "      <th>Unnamed: 0</th>\n",
       "      <td>300153.0</td>\n",
       "      <td>150076.000000</td>\n",
       "      <td>86646.852011</td>\n",
       "      <td>0.00</td>\n",
       "      <td>75038.00</td>\n",
       "      <td>150076.00</td>\n",
       "      <td>225114.00</td>\n",
       "      <td>300152.00</td>\n",
       "    </tr>\n",
       "    <tr>\n",
       "      <th>duration</th>\n",
       "      <td>300153.0</td>\n",
       "      <td>12.221021</td>\n",
       "      <td>7.191997</td>\n",
       "      <td>0.83</td>\n",
       "      <td>6.83</td>\n",
       "      <td>11.25</td>\n",
       "      <td>16.17</td>\n",
       "      <td>49.83</td>\n",
       "    </tr>\n",
       "    <tr>\n",
       "      <th>days_left</th>\n",
       "      <td>300153.0</td>\n",
       "      <td>26.004751</td>\n",
       "      <td>13.561004</td>\n",
       "      <td>1.00</td>\n",
       "      <td>15.00</td>\n",
       "      <td>26.00</td>\n",
       "      <td>38.00</td>\n",
       "      <td>49.00</td>\n",
       "    </tr>\n",
       "    <tr>\n",
       "      <th>price</th>\n",
       "      <td>300153.0</td>\n",
       "      <td>20889.660523</td>\n",
       "      <td>22697.767366</td>\n",
       "      <td>1105.00</td>\n",
       "      <td>4783.00</td>\n",
       "      <td>7425.00</td>\n",
       "      <td>42521.00</td>\n",
       "      <td>123071.00</td>\n",
       "    </tr>\n",
       "  </tbody>\n",
       "</table>\n",
       "</div>"
      ],
      "text/plain": [
       "               count           mean           std      min       25%  \\\n",
       "Unnamed: 0  300153.0  150076.000000  86646.852011     0.00  75038.00   \n",
       "duration    300153.0      12.221021      7.191997     0.83      6.83   \n",
       "days_left   300153.0      26.004751     13.561004     1.00     15.00   \n",
       "price       300153.0   20889.660523  22697.767366  1105.00   4783.00   \n",
       "\n",
       "                  50%        75%        max  \n",
       "Unnamed: 0  150076.00  225114.00  300152.00  \n",
       "duration        11.25      16.17      49.83  \n",
       "days_left       26.00      38.00      49.00  \n",
       "price         7425.00   42521.00  123071.00  "
      ]
     },
     "execution_count": 8,
     "metadata": {},
     "output_type": "execute_result"
    }
   ],
   "source": [
    "data.describe().T"
   ]
  },
  {
   "cell_type": "code",
   "execution_count": 9,
   "id": "73e0d538",
   "metadata": {},
   "outputs": [
    {
     "data": {
      "text/plain": [
       "<AxesSubplot:xlabel='days_left'>"
      ]
     },
     "execution_count": 9,
     "metadata": {},
     "output_type": "execute_result"
    },
    {
     "data": {
      "image/png": "[encoded data removed]",
      "text/plain": [
       "<Figure size 432x288 with 1 Axes>"
      ]
     },
     "metadata": {
      "needs_background": "light"
     },
     "output_type": "display_data"
    }
   ],
   "source": [
    "sns.boxplot(x='days_left',data=data)"
   ]
  },
  {
   "cell_type": "code",
   "execution_count": 10,
   "id": "c9fadaf3",
   "metadata": {
    "scrolled": true
   },
   "outputs": [
    {
     "data": {
      "text/plain": [
       "<AxesSubplot:xlabel='price'>"
      ]
     },
     "execution_count": 10,
     "metadata": {},
     "output_type": "execute_result"
    },
    {
     "data": {
      "image/png": "[encoded data removed]",
      "text/plain": [
       "<Figure size 432x288 with 1 Axes>"
      ]
     },
     "metadata": {
      "needs_background": "light"
     },
     "output_type": "display_data"
    }
   ],
   "source": [
    "sns.boxplot(x='price',data=data)"
   ]
  },
  {
   "cell_type": "markdown",
   "id": "6d2a3544",
   "metadata": {},
   "source": [
    "###  Data visualization"
   ]
  },
  {
   "cell_type": "code",
   "execution_count": 11,
   "id": "7ff4b5c7",
   "metadata": {
    "scrolled": false
   },
   "outputs": [
    {
     "data": {
      "image/png": "[encoded data removed]",
      "text/plain": [
       "<Figure size 432x288 with 1 Axes>"
      ]
     },
     "metadata": {
      "needs_background": "light"
     },
     "output_type": "display_data"
    }
   ],
   "source": [
    "sns.barplot(x='airline',y= 'price', data=data)\n",
    "plt.show()"
   ]
  },
  {
   "cell_type": "markdown",
   "id": "4437ffd0",
   "metadata": {},
   "source": [
    "    Price vary with Airlines.."
   ]
  },
  {
   "cell_type": "code",
   "execution_count": 12,
   "id": "e4c148c3",
   "metadata": {},
   "outputs": [
    {
     "data": {
      "image/png": "[encoded data removed]",
      "text/plain": [
       "<Figure size 432x288 with 1 Axes>"
      ]
     },
     "metadata": {
      "needs_background": "light"
     },
     "output_type": "display_data"
    }
   ],
   "source": [
    "sns.barplot(x='days_left',y= 'price', data=data)\n",
    "plt.show()"
   ]
  },
  {
   "cell_type": "markdown",
   "id": "ccf99e26",
   "metadata": {},
   "source": [
    "    As day's left decreases price of flight incereases.."
   ]
  },
  {
   "cell_type": "code",
   "execution_count": 13,
   "id": "33851fe5",
   "metadata": {},
   "outputs": [
    {
     "data": {
      "image/png": "[encoded data removed]",
      "text/plain": [
       "<Figure size 432x288 with 1 Axes>"
      ]
     },
     "metadata": {
      "needs_background": "light"
     },
     "output_type": "display_data"
    }
   ],
   "source": [
    "sns.barplot(x='departure_time',y='price',data=data)\n",
    "plt.title('Price variation by departure time')\n",
    "plt.show()"
   ]
  },
  {
   "cell_type": "code",
   "execution_count": 14,
   "id": "523eb28b",
   "metadata": {},
   "outputs": [
    {
     "data": {
      "image/png": "[encoded data removed]",
      "text/plain": [
       "<Figure size 432x288 with 1 Axes>"
      ]
     },
     "metadata": {
      "needs_background": "light"
     },
     "output_type": "display_data"
    }
   ],
   "source": [
    "sns.barplot(x='arrival_time',y='price',data=data)\n",
    "plt.title('Price variation by arrival time')\n",
    "plt.show()"
   ]
  },
  {
   "cell_type": "markdown",
   "id": "88adb224",
   "metadata": {},
   "source": [
    "    Ticket price change based on the departure time and arrival time.."
   ]
  },
  {
   "cell_type": "code",
   "execution_count": 15,
   "id": "229f8eb2",
   "metadata": {
    "scrolled": true
   },
   "outputs": [
    {
     "data": {
      "image/png": "[encoded data removed]",
      "text/plain": [
       "<Figure size 432x288 with 1 Axes>"
      ]
     },
     "metadata": {
      "needs_background": "light"
     },
     "output_type": "display_data"
    }
   ],
   "source": [
    "sns.barplot(x='class',y='price',data=data)\n",
    "plt.show()"
   ]
  },
  {
   "cell_type": "code",
   "execution_count": null,
   "id": "74180d7a",
   "metadata": {},
   "outputs": [],
   "source": []
  },
  {
   "cell_type": "code",
   "execution_count": null,
   "id": "e9524257",
   "metadata": {},
   "outputs": [],
   "source": [
    "plt.pie(x='stops',data=encoder)"
   ]
  },
  {
   "cell_type": "markdown",
   "id": "430a4bd2",
   "metadata": {},
   "source": [
    "    Ticket price vary between Economy and Business class"
   ]
  },
  {
   "cell_type": "markdown",
   "id": "9f418e30",
   "metadata": {},
   "source": [
    "### Feature Engineering"
   ]
  },
  {
   "cell_type": "code",
   "execution_count": 17,
   "id": "ea83d869",
   "metadata": {},
   "outputs": [],
   "source": [
    "from sklearn.preprocessing import LabelEncoder,OrdinalEncoder"
   ]
  },
  {
   "cell_type": "code",
   "execution_count": 18,
   "id": "232f8c96",
   "metadata": {},
   "outputs": [],
   "source": [
    "cat_columns = ['airline','flight','source_city','departure_time','stops','arrival_time','destination_city','class',]\n",
    "num_columns = ['duration','days_left']"
   ]
  },
  {
   "cell_type": "code",
   "execution_count": 19,
   "id": "d7361ebe",
   "metadata": {},
   "outputs": [],
   "source": [
    "encoder = OrdinalEncoder().fit_transform(data[cat_columns])\n",
    "encoder = pd.DataFrame(encoder,columns = cat_columns)"
   ]
  },
  {
   "cell_type": "code",
   "execution_count": 20,
   "id": "a29d2e83",
   "metadata": {},
   "outputs": [
    {
     "data": {
      "text/html": [
       "<div>\n",
       "<style scoped>\n",
       "    .dataframe tbody tr th:only-of-type {\n",
       "        vertical-align: middle;\n",
       "    }\n",
       "\n",
       "    .dataframe tbody tr th {\n",
       "        vertical-align: top;\n",
       "    }\n",
       "\n",
       "    .dataframe thead th {\n",
       "        text-align: right;\n",
       "    }\n",
       "</style>\n",
       "<table border=\"1\" class=\"dataframe\">\n",
       "  <thead>\n",
       "    <tr style=\"text-align: right;\">\n",
       "      <th></th>\n",
       "      <th>airline</th>\n",
       "      <th>flight</th>\n",
       "      <th>source_city</th>\n",
       "      <th>departure_time</th>\n",
       "      <th>stops</th>\n",
       "      <th>arrival_time</th>\n",
       "      <th>destination_city</th>\n",
       "      <th>class</th>\n",
       "    </tr>\n",
       "  </thead>\n",
       "  <tbody>\n",
       "    <tr>\n",
       "      <th>0</th>\n",
       "      <td>4.0</td>\n",
       "      <td>1408.0</td>\n",
       "      <td>2.0</td>\n",
       "      <td>2.0</td>\n",
       "      <td>2.0</td>\n",
       "      <td>5.0</td>\n",
       "      <td>5.0</td>\n",
       "      <td>1.0</td>\n",
       "    </tr>\n",
       "    <tr>\n",
       "      <th>1</th>\n",
       "      <td>4.0</td>\n",
       "      <td>1387.0</td>\n",
       "      <td>2.0</td>\n",
       "      <td>1.0</td>\n",
       "      <td>2.0</td>\n",
       "      <td>4.0</td>\n",
       "      <td>5.0</td>\n",
       "      <td>1.0</td>\n",
       "    </tr>\n",
       "    <tr>\n",
       "      <th>2</th>\n",
       "      <td>0.0</td>\n",
       "      <td>1213.0</td>\n",
       "      <td>2.0</td>\n",
       "      <td>1.0</td>\n",
       "      <td>2.0</td>\n",
       "      <td>1.0</td>\n",
       "      <td>5.0</td>\n",
       "      <td>1.0</td>\n",
       "    </tr>\n",
       "    <tr>\n",
       "      <th>3</th>\n",
       "      <td>5.0</td>\n",
       "      <td>1559.0</td>\n",
       "      <td>2.0</td>\n",
       "      <td>4.0</td>\n",
       "      <td>2.0</td>\n",
       "      <td>0.0</td>\n",
       "      <td>5.0</td>\n",
       "      <td>1.0</td>\n",
       "    </tr>\n",
       "    <tr>\n",
       "      <th>4</th>\n",
       "      <td>5.0</td>\n",
       "      <td>1549.0</td>\n",
       "      <td>2.0</td>\n",
       "      <td>4.0</td>\n",
       "      <td>2.0</td>\n",
       "      <td>4.0</td>\n",
       "      <td>5.0</td>\n",
       "      <td>1.0</td>\n",
       "    </tr>\n",
       "  </tbody>\n",
       "</table>\n",
       "</div>"
      ],
      "text/plain": [
       "   airline  flight  source_city  departure_time  stops  arrival_time  \\\n",
       "0      4.0  1408.0          2.0             2.0    2.0           5.0   \n",
       "1      4.0  1387.0          2.0             1.0    2.0           4.0   \n",
       "2      0.0  1213.0          2.0             1.0    2.0           1.0   \n",
       "3      5.0  1559.0          2.0             4.0    2.0           0.0   \n",
       "4      5.0  1549.0          2.0             4.0    2.0           4.0   \n",
       "\n",
       "   destination_city  class  \n",
       "0               5.0    1.0  \n",
       "1               5.0    1.0  \n",
       "2               5.0    1.0  \n",
       "3               5.0    1.0  \n",
       "4               5.0    1.0  "
      ]
     },
     "execution_count": 20,
     "metadata": {},
     "output_type": "execute_result"
    }
   ],
   "source": [
    "encoder.head()"
   ]
  },
  {
   "cell_type": "code",
   "execution_count": 21,
   "id": "09482409",
   "metadata": {},
   "outputs": [],
   "source": [
    "x = pd.concat([encoder,data[num_columns]],axis=1)\n",
    "y = data['price']"
   ]
  },
  {
   "cell_type": "code",
   "execution_count": 22,
   "id": "293839c0",
   "metadata": {},
   "outputs": [],
   "source": [
    "from sklearn.linear_model import LinearRegression\n",
    "from sklearn.model_selection import train_test_split"
   ]
  },
  {
   "cell_type": "code",
   "execution_count": 23,
   "id": "f86bad58",
   "metadata": {},
   "outputs": [],
   "source": [
    "train_x,test_x,train_y,test_y = train_test_split(x,y,test_size=0.3,random_state=56)"
   ]
  },
  {
   "cell_type": "code",
   "execution_count": 24,
   "id": "c4198a91",
   "metadata": {},
   "outputs": [
    {
     "name": "stdout",
     "output_type": "stream",
     "text": [
      "(210107, 10) (90046, 10) (210107,) (90046,)\n"
     ]
    }
   ],
   "source": [
    "print(train_x.shape,test_x.shape,train_y.shape,test_y.shape)"
   ]
  },
  {
   "cell_type": "code",
   "execution_count": 25,
   "id": "f027edd7",
   "metadata": {},
   "outputs": [],
   "source": [
    "model = LinearRegression()"
   ]
  },
  {
   "cell_type": "code",
   "execution_count": 26,
   "id": "dd40a03f",
   "metadata": {},
   "outputs": [
    {
     "data": {
      "text/plain": [
       "LinearRegression()"
      ]
     },
     "execution_count": 26,
     "metadata": {},
     "output_type": "execute_result"
    }
   ],
   "source": [
    "model.fit(train_x,train_y)"
   ]
  },
  {
   "cell_type": "code",
   "execution_count": 27,
   "id": "716a2cc9",
   "metadata": {},
   "outputs": [
    {
     "data": {
      "text/plain": [
       "array([51811.81253873, 53921.56900201, 57411.89480719, ...,\n",
       "       11654.435642  ,  4204.47976049,  9566.03217726])"
      ]
     },
     "execution_count": 27,
     "metadata": {},
     "output_type": "execute_result"
    }
   ],
   "source": [
    "pred = model.predict(test_x) \n",
    "pred"
   ]
  },
  {
   "cell_type": "code",
   "execution_count": 28,
   "id": "71c05914",
   "metadata": {},
   "outputs": [
    {
     "data": {
      "text/plain": [
       "0.9048228529130661"
      ]
     },
     "execution_count": 28,
     "metadata": {},
     "output_type": "execute_result"
    }
   ],
   "source": [
    "model.score(train_x,train_y)"
   ]
  },
  {
   "cell_type": "code",
   "execution_count": 29,
   "id": "b1ce135b",
   "metadata": {},
   "outputs": [],
   "source": [
    "# model.score(test_x,pred)"
   ]
  },
  {
   "cell_type": "code",
   "execution_count": 30,
   "id": "585c6b88",
   "metadata": {},
   "outputs": [],
   "source": [
    "from sklearn.metrics import r2_score"
   ]
  },
  {
   "cell_type": "code",
   "execution_count": 31,
   "id": "d82fb5d5",
   "metadata": {},
   "outputs": [],
   "source": [
    "r2_score = r2_score(test_y,pred)"
   ]
  },
  {
   "cell_type": "markdown",
   "id": "5c4a6ea3",
   "metadata": {},
   "source": [
    "##### Model Accuracy "
   ]
  },
  {
   "cell_type": "code",
   "execution_count": 32,
   "id": "b9b3f407",
   "metadata": {},
   "outputs": [
    {
     "name": "stdout",
     "output_type": "stream",
     "text": [
      "Accuracy of Linearn Regression Model is: 0.9041466045286557\n"
     ]
    }
   ],
   "source": [
    "print('Accuracy of Linearn Regression Model is:',r2_score)"
   ]
  },
  {
   "cell_type": "markdown",
   "id": "f49fc0ef",
   "metadata": {},
   "source": [
    "### Conclusion"
   ]
  },
  {
   "cell_type": "markdown",
   "id": "2a2d4f4c",
   "metadata": {},
   "source": [
    "    Q.Does price vary with Airlines?\n",
    "    A.Yes, Price does vary with different airlines.\n",
    "    \n",
    "    Q.How is the price affected when tickets are bought in just 1 or 2 days before departure?\n",
    "    A.when tickets are bought in just 1 0r 2 days before departure prices woudl be higher.\n",
    "    \n",
    "    Q.Does ticket price change based on the departure time and arrival time?\n",
    "    A.Yes, tiket prices changes on the departute time and arrival time.\n",
    "    \n",
    "    Q.How the price changes with change in Source and Destination?\n",
    "    A.Yes, prices changes with change in Source and Destination.\n",
    "    \n",
    "    Q. How does the ticket price vary between Economy and Business class?\n",
    "    A. The ticket price vary between Economy and Business class"
   ]
  },
  {
   "cell_type": "code",
   "execution_count": null,
   "id": "8d9b8b86",
   "metadata": {},
   "outputs": [],
   "source": []
  }
 ],
 "metadata": {
  "kernelspec": {
   "display_name": "Python 3",
   "language": "python",
   "name": "python3"
  },
  "language_info": {
   "codemirror_mode": {
    "name": "ipython",
    "version": 3
   },
   "file_extension": ".py",
   "mimetype": "text/x-python",
   "name": "python",
   "nbconvert_exporter": "python",
   "pygments_lexer": "ipython3",
   "version": "3.8.8"
  }
 },
 "nbformat": 4,
 "nbformat_minor": 5
}
