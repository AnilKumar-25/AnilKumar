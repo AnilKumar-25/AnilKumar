{
 "cells": [
  {
   "cell_type": "markdown",
   "id": "bfacf836",
   "metadata": {},
   "source": [
    "## CONTENT"
   ]
  },
  {
   "cell_type": "markdown",
   "id": "6fb588f5",
   "metadata": {},
   "source": [
    "You are owing a supermarket mall and through membership cards , you have some basic data about your customers like Customer ID, age, gender, annual income and spending score.\n",
    "Spending Score is something you assign to the customer based on your defined parameters like customer behavior and purchasing data."
   ]
  },
  {
   "cell_type": "markdown",
   "id": "48d5f6c5",
   "metadata": {},
   "source": [
    "## Problem Statement"
   ]
  },
  {
   "cell_type": "markdown",
   "id": "41e83c2f",
   "metadata": {},
   "source": [
    "You own the mall and want to understand the customers like who can be easily converge [Target Customers] so that the sense can be given to marketing team and plan the strategy accordingly."
   ]
  },
  {
   "cell_type": "markdown",
   "id": "35f27a0e",
   "metadata": {},
   "source": [
    "### Importing the Library"
   ]
  },
  {
   "cell_type": "code",
   "execution_count": 2,
   "id": "f60c43c8",
   "metadata": {},
   "outputs": [],
   "source": [
    "import numpy as np\n",
    "import pandas as pd\n",
    "import seaborn as sns\n",
    "import matplotlib.pyplot as plt\n",
    "import warnings\n",
    "warnings.filterwarnings('ignore')"
   ]
  },
  {
   "cell_type": "markdown",
   "id": "2c37439a",
   "metadata": {},
   "source": [
    "\n",
    "### Importing & Exploring Data\n"
   ]
  },
  {
   "cell_type": "code",
   "execution_count": 3,
   "id": "49f90010",
   "metadata": {},
   "outputs": [],
   "source": [
    "# Loading the data from csv file..\n",
    "\n",
    "data = pd.read_csv('Mall customers.csv')"
   ]
  },
  {
   "cell_type": "code",
   "execution_count": 4,
   "id": "a4949386",
   "metadata": {
    "scrolled": true
   },
   "outputs": [
    {
     "data": {
      "text/html": [
       "<div>\n",
       "<style scoped>\n",
       "    .dataframe tbody tr th:only-of-type {\n",
       "        vertical-align: middle;\n",
       "    }\n",
       "\n",
       "    .dataframe tbody tr th {\n",
       "        vertical-align: top;\n",
       "    }\n",
       "\n",
       "    .dataframe thead th {\n",
       "        text-align: right;\n",
       "    }\n",
       "</style>\n",
       "<table border=\"1\" class=\"dataframe\">\n",
       "  <thead>\n",
       "    <tr style=\"text-align: right;\">\n",
       "      <th></th>\n",
       "      <th>Unnamed: 0</th>\n",
       "      <th>Gender</th>\n",
       "      <th>Age</th>\n",
       "      <th>Annual_Income</th>\n",
       "      <th>Spending_Score</th>\n",
       "    </tr>\n",
       "  </thead>\n",
       "  <tbody>\n",
       "    <tr>\n",
       "      <th>0</th>\n",
       "      <td>0</td>\n",
       "      <td>Male</td>\n",
       "      <td>19</td>\n",
       "      <td>15</td>\n",
       "      <td>39</td>\n",
       "    </tr>\n",
       "    <tr>\n",
       "      <th>1</th>\n",
       "      <td>1</td>\n",
       "      <td>Male</td>\n",
       "      <td>21</td>\n",
       "      <td>15</td>\n",
       "      <td>81</td>\n",
       "    </tr>\n",
       "    <tr>\n",
       "      <th>2</th>\n",
       "      <td>2</td>\n",
       "      <td>Female</td>\n",
       "      <td>20</td>\n",
       "      <td>16</td>\n",
       "      <td>6</td>\n",
       "    </tr>\n",
       "    <tr>\n",
       "      <th>3</th>\n",
       "      <td>3</td>\n",
       "      <td>Female</td>\n",
       "      <td>23</td>\n",
       "      <td>16</td>\n",
       "      <td>77</td>\n",
       "    </tr>\n",
       "    <tr>\n",
       "      <th>4</th>\n",
       "      <td>4</td>\n",
       "      <td>Female</td>\n",
       "      <td>31</td>\n",
       "      <td>17</td>\n",
       "      <td>40</td>\n",
       "    </tr>\n",
       "  </tbody>\n",
       "</table>\n",
       "</div>"
      ],
      "text/plain": [
       "   Unnamed: 0  Gender  Age  Annual_Income  Spending_Score\n",
       "0           0    Male   19             15              39\n",
       "1           1    Male   21             15              81\n",
       "2           2  Female   20             16               6\n",
       "3           3  Female   23             16              77\n",
       "4           4  Female   31             17              40"
      ]
     },
     "execution_count": 4,
     "metadata": {},
     "output_type": "execute_result"
    }
   ],
   "source": [
    "# Top datasets of data..\n",
    "\n",
    "data.head()"
   ]
  },
  {
   "cell_type": "code",
   "execution_count": 5,
   "id": "7379ff92",
   "metadata": {},
   "outputs": [
    {
     "data": {
      "text/plain": [
       "(198, 5)"
      ]
     },
     "execution_count": 5,
     "metadata": {},
     "output_type": "execute_result"
    }
   ],
   "source": [
    "# Number of Rowa and Columns in data..\n",
    "\n",
    "data.shape"
   ]
  },
  {
   "cell_type": "code",
   "execution_count": 6,
   "id": "6ed1faa1",
   "metadata": {},
   "outputs": [
    {
     "name": "stdout",
     "output_type": "stream",
     "text": [
      "<class 'pandas.core.frame.DataFrame'>\n",
      "RangeIndex: 198 entries, 0 to 197\n",
      "Data columns (total 5 columns):\n",
      " #   Column          Non-Null Count  Dtype \n",
      "---  ------          --------------  ----- \n",
      " 0   Unnamed: 0      198 non-null    int64 \n",
      " 1   Gender          198 non-null    object\n",
      " 2   Age             198 non-null    int64 \n",
      " 3   Annual_Income   198 non-null    int64 \n",
      " 4   Spending_Score  198 non-null    int64 \n",
      "dtypes: int64(4), object(1)\n",
      "memory usage: 7.9+ KB\n"
     ]
    }
   ],
   "source": [
    "# Getting some informations about the data..\n",
    "\n",
    "data.info()"
   ]
  },
  {
   "cell_type": "code",
   "execution_count": 7,
   "id": "7d9cbded",
   "metadata": {},
   "outputs": [
    {
     "data": {
      "text/plain": [
       "Unnamed: 0        0\n",
       "Gender            0\n",
       "Age               0\n",
       "Annual_Income     0\n",
       "Spending_Score    0\n",
       "dtype: int64"
      ]
     },
     "execution_count": 7,
     "metadata": {},
     "output_type": "execute_result"
    }
   ],
   "source": [
    "# Checking the number of missing values in columns percentage..\n",
    "\n",
    "data.isnull().sum()"
   ]
  },
  {
   "cell_type": "code",
   "execution_count": 8,
   "id": "e18764f6",
   "metadata": {},
   "outputs": [
    {
     "data": {
      "text/html": [
       "<div>\n",
       "<style scoped>\n",
       "    .dataframe tbody tr th:only-of-type {\n",
       "        vertical-align: middle;\n",
       "    }\n",
       "\n",
       "    .dataframe tbody tr th {\n",
       "        vertical-align: top;\n",
       "    }\n",
       "\n",
       "    .dataframe thead th {\n",
       "        text-align: right;\n",
       "    }\n",
       "</style>\n",
       "<table border=\"1\" class=\"dataframe\">\n",
       "  <thead>\n",
       "    <tr style=\"text-align: right;\">\n",
       "      <th></th>\n",
       "      <th>count</th>\n",
       "      <th>mean</th>\n",
       "      <th>std</th>\n",
       "      <th>min</th>\n",
       "      <th>25%</th>\n",
       "      <th>50%</th>\n",
       "      <th>75%</th>\n",
       "      <th>max</th>\n",
       "    </tr>\n",
       "  </thead>\n",
       "  <tbody>\n",
       "    <tr>\n",
       "      <th>Unnamed: 0</th>\n",
       "      <td>198.0</td>\n",
       "      <td>98.500000</td>\n",
       "      <td>57.301832</td>\n",
       "      <td>0.0</td>\n",
       "      <td>49.25</td>\n",
       "      <td>98.5</td>\n",
       "      <td>147.75</td>\n",
       "      <td>197.0</td>\n",
       "    </tr>\n",
       "    <tr>\n",
       "      <th>Age</th>\n",
       "      <td>198.0</td>\n",
       "      <td>38.929293</td>\n",
       "      <td>14.016852</td>\n",
       "      <td>18.0</td>\n",
       "      <td>28.25</td>\n",
       "      <td>36.0</td>\n",
       "      <td>49.00</td>\n",
       "      <td>70.0</td>\n",
       "    </tr>\n",
       "    <tr>\n",
       "      <th>Annual_Income</th>\n",
       "      <td>198.0</td>\n",
       "      <td>59.787879</td>\n",
       "      <td>25.237259</td>\n",
       "      <td>15.0</td>\n",
       "      <td>40.50</td>\n",
       "      <td>61.0</td>\n",
       "      <td>77.75</td>\n",
       "      <td>126.0</td>\n",
       "    </tr>\n",
       "    <tr>\n",
       "      <th>Spending_Score</th>\n",
       "      <td>198.0</td>\n",
       "      <td>50.196970</td>\n",
       "      <td>25.746846</td>\n",
       "      <td>1.0</td>\n",
       "      <td>35.00</td>\n",
       "      <td>50.0</td>\n",
       "      <td>72.75</td>\n",
       "      <td>99.0</td>\n",
       "    </tr>\n",
       "  </tbody>\n",
       "</table>\n",
       "</div>"
      ],
      "text/plain": [
       "                count       mean        std   min    25%   50%     75%    max\n",
       "Unnamed: 0      198.0  98.500000  57.301832   0.0  49.25  98.5  147.75  197.0\n",
       "Age             198.0  38.929293  14.016852  18.0  28.25  36.0   49.00   70.0\n",
       "Annual_Income   198.0  59.787879  25.237259  15.0  40.50  61.0   77.75  126.0\n",
       "Spending_Score  198.0  50.196970  25.746846   1.0  35.00  50.0   72.75   99.0"
      ]
     },
     "execution_count": 8,
     "metadata": {},
     "output_type": "execute_result"
    }
   ],
   "source": [
    "# Getting some statistical measuresthe data..\n",
    "# For non-objective columns..\n",
    "\n",
    "data.describe().T"
   ]
  },
  {
   "cell_type": "code",
   "execution_count": 9,
   "id": "4bc8daa5",
   "metadata": {},
   "outputs": [
    {
     "data": {
      "text/html": [
       "<div>\n",
       "<style scoped>\n",
       "    .dataframe tbody tr th:only-of-type {\n",
       "        vertical-align: middle;\n",
       "    }\n",
       "\n",
       "    .dataframe tbody tr th {\n",
       "        vertical-align: top;\n",
       "    }\n",
       "\n",
       "    .dataframe thead th {\n",
       "        text-align: right;\n",
       "    }\n",
       "</style>\n",
       "<table border=\"1\" class=\"dataframe\">\n",
       "  <thead>\n",
       "    <tr style=\"text-align: right;\">\n",
       "      <th></th>\n",
       "      <th>count</th>\n",
       "      <th>unique</th>\n",
       "      <th>top</th>\n",
       "      <th>freq</th>\n",
       "    </tr>\n",
       "  </thead>\n",
       "  <tbody>\n",
       "    <tr>\n",
       "      <th>Gender</th>\n",
       "      <td>198</td>\n",
       "      <td>2</td>\n",
       "      <td>Female</td>\n",
       "      <td>112</td>\n",
       "    </tr>\n",
       "  </tbody>\n",
       "</table>\n",
       "</div>"
      ],
      "text/plain": [
       "       count unique     top freq\n",
       "Gender   198      2  Female  112"
      ]
     },
     "execution_count": 9,
     "metadata": {},
     "output_type": "execute_result"
    }
   ],
   "source": [
    "# For objective column..\n",
    "\n",
    "data.describe(include='object').T"
   ]
  },
  {
   "cell_type": "code",
   "execution_count": 10,
   "id": "8868df1e",
   "metadata": {},
   "outputs": [
    {
     "data": {
      "text/html": [
       "<div>\n",
       "<style scoped>\n",
       "    .dataframe tbody tr th:only-of-type {\n",
       "        vertical-align: middle;\n",
       "    }\n",
       "\n",
       "    .dataframe tbody tr th {\n",
       "        vertical-align: top;\n",
       "    }\n",
       "\n",
       "    .dataframe thead th {\n",
       "        text-align: right;\n",
       "    }\n",
       "</style>\n",
       "<table border=\"1\" class=\"dataframe\">\n",
       "  <thead>\n",
       "    <tr style=\"text-align: right;\">\n",
       "      <th></th>\n",
       "      <th>Unnamed: 0</th>\n",
       "      <th>Age</th>\n",
       "      <th>Annual_Income</th>\n",
       "      <th>Spending_Score</th>\n",
       "    </tr>\n",
       "  </thead>\n",
       "  <tbody>\n",
       "    <tr>\n",
       "      <th>Unnamed: 0</th>\n",
       "      <td>1.000000</td>\n",
       "      <td>-0.017285</td>\n",
       "      <td>0.984367</td>\n",
       "      <td>0.013840</td>\n",
       "    </tr>\n",
       "    <tr>\n",
       "      <th>Age</th>\n",
       "      <td>-0.017285</td>\n",
       "      <td>1.000000</td>\n",
       "      <td>0.004406</td>\n",
       "      <td>-0.329421</td>\n",
       "    </tr>\n",
       "    <tr>\n",
       "      <th>Annual_Income</th>\n",
       "      <td>0.984367</td>\n",
       "      <td>0.004406</td>\n",
       "      <td>1.000000</td>\n",
       "      <td>0.010080</td>\n",
       "    </tr>\n",
       "    <tr>\n",
       "      <th>Spending_Score</th>\n",
       "      <td>0.013840</td>\n",
       "      <td>-0.329421</td>\n",
       "      <td>0.010080</td>\n",
       "      <td>1.000000</td>\n",
       "    </tr>\n",
       "  </tbody>\n",
       "</table>\n",
       "</div>"
      ],
      "text/plain": [
       "                Unnamed: 0       Age  Annual_Income  Spending_Score\n",
       "Unnamed: 0        1.000000 -0.017285       0.984367        0.013840\n",
       "Age              -0.017285  1.000000       0.004406       -0.329421\n",
       "Annual_Income     0.984367  0.004406       1.000000        0.010080\n",
       "Spending_Score    0.013840 -0.329421       0.010080        1.000000"
      ]
     },
     "execution_count": 10,
     "metadata": {},
     "output_type": "execute_result"
    }
   ],
   "source": [
    "# Correlationship between columns..\n",
    "\n",
    "data.corr()"
   ]
  },
  {
   "cell_type": "code",
   "execution_count": 11,
   "id": "636bc552",
   "metadata": {
    "scrolled": true
   },
   "outputs": [
    {
     "data": {
      "image/png": "[encoded data removed]",
      "text/plain": [
       "<Figure size 432x288 with 2 Axes>"
      ]
     },
     "metadata": {
      "needs_background": "light"
     },
     "output_type": "display_data"
    }
   ],
   "source": [
    "# visualizing the correlationship..\n",
    "\n",
    "plt.figure(figsize=(6,4))\n",
    "sns.heatmap(data.corr(),annot=True,cmap='Blues')\n",
    "plt.show()"
   ]
  },
  {
   "cell_type": "markdown",
   "id": "97b7c6ea",
   "metadata": {},
   "source": [
    "### Data Visualisation"
   ]
  },
  {
   "cell_type": "code",
   "execution_count": 12,
   "id": "76f2216a",
   "metadata": {},
   "outputs": [
    {
     "data": {
      "image/png": "[encoded data removed]",
      "text/plain": [
       "<Figure size 432x288 with 1 Axes>"
      ]
     },
     "metadata": {
      "needs_background": "light"
     },
     "output_type": "display_data"
    },
    {
     "name": "stdout",
     "output_type": "stream",
     "text": [
      "There is no correlation between Age & Annual Income\n"
     ]
    }
   ],
   "source": [
    "sns.scatterplot(x='Age',y='Annual_Income',hue='Gender',data=data)\n",
    "plt.show()\n",
    "print('There is no correlation between Age & Annual Income')"
   ]
  },
  {
   "cell_type": "code",
   "execution_count": 13,
   "id": "d3086edf",
   "metadata": {
    "scrolled": true
   },
   "outputs": [
    {
     "data": {
      "image/png": "[encoded data removed]",
      "text/plain": [
       "<Figure size 432x288 with 1 Axes>"
      ]
     },
     "metadata": {
      "needs_background": "light"
     },
     "output_type": "display_data"
    }
   ],
   "source": [
    "sns.scatterplot(x='Age',y='Spending_Score',hue='Gender',data=data)\n",
    "plt.show()"
   ]
  },
  {
   "cell_type": "markdown",
   "id": "62a7ba04",
   "metadata": {},
   "source": [
    "As we can observe from above scatterplot as Age increases the Spending Score decrease..\n",
    "\n",
    "Below 40 age spend: More \n",
    "\n",
    "Above 40 age spend: Less"
   ]
  },
  {
   "cell_type": "code",
   "execution_count": 14,
   "id": "3a3cfe69",
   "metadata": {
    "scrolled": true
   },
   "outputs": [
    {
     "data": {
      "image/png": "[encoded data removed]",
      "text/plain": [
       "<Figure size 432x288 with 1 Axes>"
      ]
     },
     "metadata": {
      "needs_background": "light"
     },
     "output_type": "display_data"
    }
   ],
   "source": [
    "sns.barplot(y='Spending_Score',x='Gender',data=data)\n",
    "plt.show()"
   ]
  },
  {
   "cell_type": "markdown",
   "id": "d1ece5c3",
   "metadata": {},
   "source": [
    "Female's Spending Score is more than Male's.."
   ]
  },
  {
   "cell_type": "code",
   "execution_count": 15,
   "id": "01ae5be7",
   "metadata": {
    "scrolled": true
   },
   "outputs": [
    {
     "data": {
      "image/png": "[encoded data removed]",
      "text/plain": [
       "<Figure size 432x288 with 1 Axes>"
      ]
     },
     "metadata": {
      "needs_background": "light"
     },
     "output_type": "display_data"
    }
   ],
   "source": [
    "sns.scatterplot(x='Annual_Income',y='Spending_Score',data=data)\n",
    "plt.show()"
   ]
  },
  {
   "cell_type": "markdown",
   "id": "8678c982",
   "metadata": {},
   "source": [
    "\n",
    "### Feature Selection\n"
   ]
  },
  {
   "cell_type": "code",
   "execution_count": 16,
   "id": "650ec77e",
   "metadata": {},
   "outputs": [],
   "source": [
    "# Deleting all unimportant columns..\n",
    "\n",
    "del data['Unnamed: 0']\n",
    "del data['Age']\n",
    "del data['Gender']"
   ]
  },
  {
   "cell_type": "code",
   "execution_count": 17,
   "id": "d575e800",
   "metadata": {
    "scrolled": true
   },
   "outputs": [
    {
     "data": {
      "text/html": [
       "<div>\n",
       "<style scoped>\n",
       "    .dataframe tbody tr th:only-of-type {\n",
       "        vertical-align: middle;\n",
       "    }\n",
       "\n",
       "    .dataframe tbody tr th {\n",
       "        vertical-align: top;\n",
       "    }\n",
       "\n",
       "    .dataframe thead th {\n",
       "        text-align: right;\n",
       "    }\n",
       "</style>\n",
       "<table border=\"1\" class=\"dataframe\">\n",
       "  <thead>\n",
       "    <tr style=\"text-align: right;\">\n",
       "      <th></th>\n",
       "      <th>Annual_Income</th>\n",
       "      <th>Spending_Score</th>\n",
       "    </tr>\n",
       "  </thead>\n",
       "  <tbody>\n",
       "    <tr>\n",
       "      <th>0</th>\n",
       "      <td>15</td>\n",
       "      <td>39</td>\n",
       "    </tr>\n",
       "    <tr>\n",
       "      <th>1</th>\n",
       "      <td>15</td>\n",
       "      <td>81</td>\n",
       "    </tr>\n",
       "    <tr>\n",
       "      <th>2</th>\n",
       "      <td>16</td>\n",
       "      <td>6</td>\n",
       "    </tr>\n",
       "    <tr>\n",
       "      <th>3</th>\n",
       "      <td>16</td>\n",
       "      <td>77</td>\n",
       "    </tr>\n",
       "    <tr>\n",
       "      <th>4</th>\n",
       "      <td>17</td>\n",
       "      <td>40</td>\n",
       "    </tr>\n",
       "  </tbody>\n",
       "</table>\n",
       "</div>"
      ],
      "text/plain": [
       "   Annual_Income  Spending_Score\n",
       "0             15              39\n",
       "1             15              81\n",
       "2             16               6\n",
       "3             16              77\n",
       "4             17              40"
      ]
     },
     "execution_count": 17,
     "metadata": {},
     "output_type": "execute_result"
    }
   ],
   "source": [
    "data.head()"
   ]
  },
  {
   "cell_type": "markdown",
   "id": "0a01360b",
   "metadata": {},
   "source": [
    "### Scaling the data"
   ]
  },
  {
   "cell_type": "code",
   "execution_count": 18,
   "id": "1d898b83",
   "metadata": {},
   "outputs": [],
   "source": [
    "# Importing StandardScaler sklearn library..\n",
    "\n",
    "from sklearn.preprocessing import StandardScaler\n",
    "sc = StandardScaler()"
   ]
  },
  {
   "cell_type": "code",
   "execution_count": 19,
   "id": "bb01e744",
   "metadata": {},
   "outputs": [],
   "source": [
    "# Scaling the data..\n",
    "\n",
    "data_s = sc.fit_transform(data)"
   ]
  },
  {
   "cell_type": "code",
   "execution_count": 20,
   "id": "4b55e4a8",
   "metadata": {},
   "outputs": [
    {
     "data": {
      "text/plain": [
       "array([[-1.77917141, -0.43598941],\n",
       "       [-1.77917141,  1.19941337],\n",
       "       [-1.73944701, -1.72094874],\n",
       "       [-1.73944701,  1.04366072],\n",
       "       [-1.69972262, -0.39705125],\n",
       "       [-1.69972262,  1.00472256],\n",
       "       [-1.65999822, -1.72094874],\n",
       "       [-1.65999822,  1.70560947],\n",
       "       [-1.62027383, -1.83776323],\n",
       "       [-1.62027383,  0.84896992],\n",
       "       [-1.62027383, -1.40944345],\n",
       "       [-1.62027383,  1.90030028],\n",
       "       [-1.58054943, -1.37050529],\n",
       "       [-1.58054943,  1.04366072],\n",
       "       [-1.58054943, -1.44838161],\n",
       "       [-1.58054943,  1.12153705],\n",
       "       [-1.54082504, -0.59174206],\n",
       "       [-1.54082504,  0.61534095],\n",
       "       [-1.46137625, -0.82537103],\n",
       "       [-1.46137625,  1.86136212],\n",
       "       [-1.42165185, -0.59174206],\n",
       "       [-1.42165185,  0.88790808],\n",
       "       [-1.38192745, -1.75988691],\n",
       "       [-1.38192745,  0.88790808],\n",
       "       [-1.26275427, -1.40944345],\n",
       "       [-1.26275427,  1.23835153],\n",
       "       [-1.26275427, -0.70855655],\n",
       "       [-1.26275427,  0.42065014],\n",
       "       [-1.22302987, -0.74749471],\n",
       "       [-1.22302987,  1.43304234],\n",
       "       [-1.18330548, -1.79882507],\n",
       "       [-1.18330548,  0.88790808],\n",
       "       [-1.06413229, -1.79882507],\n",
       "       [-1.06413229,  1.62773315],\n",
       "       [-1.06413229, -1.40944345],\n",
       "       [-1.06413229,  1.19941337],\n",
       "       [-1.0244079 , -1.29262897],\n",
       "       [-1.0244079 ,  0.88790808],\n",
       "       [-0.90523471, -0.94218551],\n",
       "       [-0.90523471,  0.9657844 ],\n",
       "       [-0.86551031, -0.59174206],\n",
       "       [-0.86551031,  1.62773315],\n",
       "       [-0.82578592, -0.5528039 ],\n",
       "       [-0.82578592,  0.42065014],\n",
       "       [-0.82578592, -0.86430919],\n",
       "       [-0.82578592,  0.57640278],\n",
       "       [-0.78606152,  0.18702117],\n",
       "       [-0.78606152, -0.12448412],\n",
       "       [-0.78606152, -0.31917493],\n",
       "       [-0.78606152, -0.31917493],\n",
       "       [-0.70661273,  0.07020669],\n",
       "       [-0.70661273,  0.38171198],\n",
       "       [-0.66688834,  0.14808301],\n",
       "       [-0.66688834,  0.38171198],\n",
       "       [-0.66688834, -0.20236045],\n",
       "       [-0.66688834, -0.35811309],\n",
       "       [-0.62716394, -0.00766964],\n",
       "       [-0.62716394, -0.16342228],\n",
       "       [-0.54771515,  0.03126852],\n",
       "       [-0.54771515, -0.16342228],\n",
       "       [-0.54771515,  0.22595933],\n",
       "       [-0.54771515,  0.18702117],\n",
       "       [-0.50799075,  0.07020669],\n",
       "       [-0.50799075,  0.34277382],\n",
       "       [-0.46826636,  0.03126852],\n",
       "       [-0.46826636,  0.34277382],\n",
       "       [-0.46826636, -0.00766964],\n",
       "       [-0.46826636, -0.08554596],\n",
       "       [-0.46826636,  0.34277382],\n",
       "       [-0.46826636, -0.12448412],\n",
       "       [-0.42854196,  0.18702117],\n",
       "       [-0.42854196, -0.31917493],\n",
       "       [-0.38881757, -0.0466078 ],\n",
       "       [-0.38881757,  0.22595933],\n",
       "       [-0.22991999, -0.12448412],\n",
       "       [-0.22991999,  0.14808301],\n",
       "       [-0.22991999,  0.10914485],\n",
       "       [-0.22991999, -0.08554596],\n",
       "       [-0.22991999,  0.07020669],\n",
       "       [-0.22991999, -0.31917493],\n",
       "       [-0.22991999,  0.03126852],\n",
       "       [-0.22991999,  0.18702117],\n",
       "       [-0.22991999, -0.35811309],\n",
       "       [-0.22991999, -0.24129861],\n",
       "       [-0.22991999,  0.26489749],\n",
       "       [-0.22991999, -0.16342228],\n",
       "       [-0.1107468 ,  0.30383565],\n",
       "       [-0.1107468 ,  0.18702117],\n",
       "       [-0.0710224 ,  0.38171198],\n",
       "       [-0.0710224 , -0.16342228],\n",
       "       [-0.03129801,  0.18702117],\n",
       "       [-0.03129801, -0.35811309],\n",
       "       [ 0.00842639, -0.0466078 ],\n",
       "       [ 0.00842639, -0.39705125],\n",
       "       [ 0.00842639, -0.31917493],\n",
       "       [ 0.00842639,  0.07020669],\n",
       "       [ 0.00842639, -0.12448412],\n",
       "       [ 0.00842639, -0.00766964],\n",
       "       [ 0.04815078, -0.31917493],\n",
       "       [ 0.04815078, -0.0466078 ],\n",
       "       [ 0.08787518, -0.35811309],\n",
       "       [ 0.08787518, -0.08554596],\n",
       "       [ 0.08787518,  0.34277382],\n",
       "       [ 0.08787518,  0.18702117],\n",
       "       [ 0.08787518,  0.22595933],\n",
       "       [ 0.08787518, -0.31917493],\n",
       "       [ 0.12759957, -0.00766964],\n",
       "       [ 0.12759957, -0.16342228],\n",
       "       [ 0.12759957, -0.28023677],\n",
       "       [ 0.12759957, -0.08554596],\n",
       "       [ 0.12759957,  0.07020669],\n",
       "       [ 0.12759957,  0.14808301],\n",
       "       [ 0.16732397, -0.31917493],\n",
       "       [ 0.16732397, -0.16342228],\n",
       "       [ 0.20704836, -0.08554596],\n",
       "       [ 0.20704836, -0.00766964],\n",
       "       [ 0.20704836, -0.28023677],\n",
       "       [ 0.20704836,  0.34277382],\n",
       "       [ 0.28649716, -0.28023677],\n",
       "       [ 0.28649716,  0.26489749],\n",
       "       [ 0.28649716,  0.22595933],\n",
       "       [ 0.28649716, -0.39705125],\n",
       "       [ 0.36594595,  0.30383565],\n",
       "       [ 0.36594595,  1.58879498],\n",
       "       [ 0.40567034, -0.82537103],\n",
       "       [ 0.40567034,  1.04366072],\n",
       "       [ 0.44539474, -0.59174206],\n",
       "       [ 0.44539474,  1.74454763],\n",
       "       [ 0.44539474, -1.52625794],\n",
       "       [ 0.44539474,  0.9657844 ],\n",
       "       [ 0.44539474, -1.60413426],\n",
       "       [ 0.44539474,  0.9657844 ],\n",
       "       [ 0.48511913, -0.63068022],\n",
       "       [ 0.48511913,  0.81003175],\n",
       "       [ 0.52484353, -1.75988691],\n",
       "       [ 0.52484353,  1.4719805 ],\n",
       "       [ 0.52484353, -1.68201058],\n",
       "       [ 0.52484353,  0.88790808],\n",
       "       [ 0.56456792, -1.5651961 ],\n",
       "       [ 0.56456792,  0.84896992],\n",
       "       [ 0.60429232, -1.75988691],\n",
       "       [ 0.60429232,  1.66667131],\n",
       "       [ 0.64401671, -0.39705125],\n",
       "       [ 0.64401671,  1.43304234],\n",
       "       [ 0.68374111, -1.48731978],\n",
       "       [ 0.68374111,  1.82242395],\n",
       "       [ 0.68374111, -0.5528039 ],\n",
       "       [ 0.68374111,  0.92684624],\n",
       "       [ 0.72346551, -1.09793816],\n",
       "       [ 0.72346551,  1.54985682],\n",
       "       [ 0.72346551, -1.29262897],\n",
       "       [ 0.72346551,  1.4719805 ],\n",
       "       [ 0.72346551, -1.17581448],\n",
       "       [ 0.72346551,  1.00472256],\n",
       "       [ 0.72346551, -1.33156713],\n",
       "       [ 0.72346551,  1.51091866],\n",
       "       [ 0.72346551, -1.91563955],\n",
       "       [ 0.72346551,  1.08259888],\n",
       "       [ 0.72346551, -1.91563955],\n",
       "       [ 0.72346551,  0.88790808],\n",
       "       [ 0.7631899 , -0.59174206],\n",
       "       [ 0.7631899 ,  1.27728969],\n",
       "       [ 0.84263869, -1.75988691],\n",
       "       [ 0.84263869,  1.66667131],\n",
       "       [ 1.00153627, -0.94218551],\n",
       "       [ 1.00153627,  0.9657844 ],\n",
       "       [ 1.04126067, -1.17581448],\n",
       "       [ 1.04126067,  1.74454763],\n",
       "       [ 1.08098506, -0.90324735],\n",
       "       [ 1.08098506,  0.49852646],\n",
       "       [ 1.08098506, -1.44838161],\n",
       "       [ 1.08098506,  0.9657844 ],\n",
       "       [ 1.08098506, -1.5651961 ],\n",
       "       [ 1.08098506,  1.62773315],\n",
       "       [ 1.12070946, -1.44838161],\n",
       "       [ 1.12070946,  1.39410418],\n",
       "       [ 1.12070946, -1.37050529],\n",
       "       [ 1.12070946,  0.73215543],\n",
       "       [ 1.31933144, -1.40944345],\n",
       "       [ 1.31933144,  1.54985682],\n",
       "       [ 1.47822902, -0.70855655],\n",
       "       [ 1.47822902,  1.39410418],\n",
       "       [ 1.51795342, -1.37050529],\n",
       "       [ 1.51795342,  1.4719805 ],\n",
       "       [ 1.55767781, -0.43598941],\n",
       "       [ 1.55767781,  1.82242395],\n",
       "       [ 1.6371266 , -1.02006184],\n",
       "       [ 1.6371266 ,  0.69321727],\n",
       "       [ 1.71657539, -1.29262897],\n",
       "       [ 1.71657539,  1.35516602],\n",
       "       [ 1.71657539, -1.059     ],\n",
       "       [ 1.71657539,  0.73215543],\n",
       "       [ 2.11381935, -1.64307242],\n",
       "       [ 2.11381935,  1.58879498],\n",
       "       [ 2.39189012, -1.33156713],\n",
       "       [ 2.39189012,  1.12153705],\n",
       "       [ 2.63023649, -0.86430919],\n",
       "       [ 2.63023649,  0.92684624]])"
      ]
     },
     "execution_count": 20,
     "metadata": {},
     "output_type": "execute_result"
    }
   ],
   "source": [
    "data_s"
   ]
  },
  {
   "cell_type": "markdown",
   "id": "4a175793",
   "metadata": {},
   "source": [
    "## Model Application"
   ]
  },
  {
   "cell_type": "markdown",
   "id": "78e8346a",
   "metadata": {},
   "source": [
    "### K-Means clustering"
   ]
  },
  {
   "cell_type": "code",
   "execution_count": 21,
   "id": "9d0c1638",
   "metadata": {},
   "outputs": [],
   "source": [
    "# Importing K-means model..\n",
    "\n",
    "from sklearn.cluster import KMeans"
   ]
  },
  {
   "cell_type": "markdown",
   "id": "b3a5a137",
   "metadata": {},
   "source": [
    "#### Choosing the number of clusters\n",
    "     WCSS -Within Cluster sum of squares "
   ]
  },
  {
   "cell_type": "code",
   "execution_count": 22,
   "id": "b0af2a9e",
   "metadata": {},
   "outputs": [],
   "source": [
    "# WCSS = inertia  \n",
    "\n",
    "ks = range(1,10)\n",
    "inertia = []\n",
    "for k in ks:\n",
    "    model = KMeans(n_clusters=k,init='k-means++')\n",
    "    model.fit_predict(data_s)\n",
    "    inertia.append(model.inertia_)"
   ]
  },
  {
   "cell_type": "code",
   "execution_count": 23,
   "id": "ce373d1d",
   "metadata": {},
   "outputs": [
    {
     "data": {
      "text/plain": [
       "[396.0,\n",
       " 267.0325246019484,\n",
       " 156.23784749493421,\n",
       " 106.14889229714835,\n",
       " 61.08666097712,\n",
       " 52.430459031206624,\n",
       " 43.93186992398122,\n",
       " 35.83364498318027,\n",
       " 31.02058059864088]"
      ]
     },
     "execution_count": 23,
     "metadata": {},
     "output_type": "execute_result"
    }
   ],
   "source": [
    "inertia"
   ]
  },
  {
   "cell_type": "code",
   "execution_count": 24,
   "id": "542ab6bc",
   "metadata": {},
   "outputs": [
    {
     "data": {
      "image/png": "[encoded data removed]",
      "text/plain": [
       "<Figure size 864x576 with 1 Axes>"
      ]
     },
     "metadata": {
      "needs_background": "light"
     },
     "output_type": "display_data"
    },
    {
     "name": "stdout",
     "output_type": "stream",
     "text": [
      "Optimum number of Clusters are 5 \n"
     ]
    }
   ],
   "source": [
    "# Ploting the Elbow Graph..\n",
    "\n",
    "plt.figure(figsize=(12,8))\n",
    "plt.plot(ks,inertia,'-o')\n",
    "plt.xlabel('No of Clusters')\n",
    "plt.ylabel('WCSS')\n",
    "plt.axvline(x=5,linestyle='--')\n",
    "plt.xticks(ks)\n",
    "plt.show()\n",
    "\n",
    "print(\"Optimum number of Clusters are 5 \")"
   ]
  },
  {
   "cell_type": "code",
   "execution_count": 25,
   "id": "c5738e0c",
   "metadata": {},
   "outputs": [],
   "source": [
    "# Storing model..\n",
    "\n",
    "model_km = KMeans(n_clusters=5)"
   ]
  },
  {
   "cell_type": "code",
   "execution_count": 26,
   "id": "b7dae4f4",
   "metadata": {},
   "outputs": [
    {
     "data": {
      "text/plain": [
       "array([0, 4, 0, 4, 0, 4, 0, 4, 0, 4, 0, 4, 0, 4, 0, 4, 0, 4, 0, 4, 0, 4,\n",
       "       0, 4, 0, 4, 0, 4, 0, 4, 0, 4, 0, 4, 0, 4, 0, 4, 0, 4, 0, 4, 0, 1,\n",
       "       0, 4, 1, 1, 1, 1, 1, 1, 1, 1, 1, 1, 1, 1, 1, 1, 1, 1, 1, 1, 1, 1,\n",
       "       1, 1, 1, 1, 1, 1, 1, 1, 1, 1, 1, 1, 1, 1, 1, 1, 1, 1, 1, 1, 1, 1,\n",
       "       1, 1, 1, 1, 1, 1, 1, 1, 1, 1, 1, 1, 1, 1, 1, 1, 1, 1, 1, 1, 1, 1,\n",
       "       1, 1, 1, 1, 1, 1, 1, 1, 1, 1, 1, 1, 1, 2, 3, 2, 1, 2, 3, 2, 3, 2,\n",
       "       3, 2, 3, 2, 3, 2, 3, 2, 3, 2, 1, 2, 3, 2, 3, 2, 3, 2, 3, 2, 3, 2,\n",
       "       3, 2, 3, 2, 3, 2, 3, 2, 3, 2, 3, 2, 3, 2, 3, 2, 3, 2, 3, 2, 3, 2,\n",
       "       3, 2, 3, 2, 3, 2, 3, 2, 3, 2, 3, 2, 3, 2, 3, 2, 3, 2, 3, 2, 3, 2])"
      ]
     },
     "execution_count": 26,
     "metadata": {},
     "output_type": "execute_result"
    }
   ],
   "source": [
    "# Predicting the labels..\n",
    "\n",
    "label = model_km.fit_predict(data_s)\n",
    "label"
   ]
  },
  {
   "cell_type": "code",
   "execution_count": 27,
   "id": "a403f565",
   "metadata": {},
   "outputs": [],
   "source": [
    "data_s = pd.DataFrame(data_s)"
   ]
  },
  {
   "cell_type": "code",
   "execution_count": 28,
   "id": "9109baf6",
   "metadata": {
    "scrolled": true
   },
   "outputs": [
    {
     "data": {
      "text/html": [
       "<div>\n",
       "<style scoped>\n",
       "    .dataframe tbody tr th:only-of-type {\n",
       "        vertical-align: middle;\n",
       "    }\n",
       "\n",
       "    .dataframe tbody tr th {\n",
       "        vertical-align: top;\n",
       "    }\n",
       "\n",
       "    .dataframe thead th {\n",
       "        text-align: right;\n",
       "    }\n",
       "</style>\n",
       "<table border=\"1\" class=\"dataframe\">\n",
       "  <thead>\n",
       "    <tr style=\"text-align: right;\">\n",
       "      <th></th>\n",
       "      <th>0</th>\n",
       "      <th>1</th>\n",
       "      <th>label</th>\n",
       "    </tr>\n",
       "  </thead>\n",
       "  <tbody>\n",
       "    <tr>\n",
       "      <th>0</th>\n",
       "      <td>-1.779171</td>\n",
       "      <td>-0.435989</td>\n",
       "      <td>0</td>\n",
       "    </tr>\n",
       "    <tr>\n",
       "      <th>1</th>\n",
       "      <td>-1.779171</td>\n",
       "      <td>1.199413</td>\n",
       "      <td>4</td>\n",
       "    </tr>\n",
       "    <tr>\n",
       "      <th>2</th>\n",
       "      <td>-1.739447</td>\n",
       "      <td>-1.720949</td>\n",
       "      <td>0</td>\n",
       "    </tr>\n",
       "    <tr>\n",
       "      <th>3</th>\n",
       "      <td>-1.739447</td>\n",
       "      <td>1.043661</td>\n",
       "      <td>4</td>\n",
       "    </tr>\n",
       "    <tr>\n",
       "      <th>4</th>\n",
       "      <td>-1.699723</td>\n",
       "      <td>-0.397051</td>\n",
       "      <td>0</td>\n",
       "    </tr>\n",
       "    <tr>\n",
       "      <th>...</th>\n",
       "      <td>...</td>\n",
       "      <td>...</td>\n",
       "      <td>...</td>\n",
       "    </tr>\n",
       "    <tr>\n",
       "      <th>193</th>\n",
       "      <td>2.113819</td>\n",
       "      <td>1.588795</td>\n",
       "      <td>2</td>\n",
       "    </tr>\n",
       "    <tr>\n",
       "      <th>194</th>\n",
       "      <td>2.391890</td>\n",
       "      <td>-1.331567</td>\n",
       "      <td>3</td>\n",
       "    </tr>\n",
       "    <tr>\n",
       "      <th>195</th>\n",
       "      <td>2.391890</td>\n",
       "      <td>1.121537</td>\n",
       "      <td>2</td>\n",
       "    </tr>\n",
       "    <tr>\n",
       "      <th>196</th>\n",
       "      <td>2.630236</td>\n",
       "      <td>-0.864309</td>\n",
       "      <td>3</td>\n",
       "    </tr>\n",
       "    <tr>\n",
       "      <th>197</th>\n",
       "      <td>2.630236</td>\n",
       "      <td>0.926846</td>\n",
       "      <td>2</td>\n",
       "    </tr>\n",
       "  </tbody>\n",
       "</table>\n",
       "<p>198 rows × 3 columns</p>\n",
       "</div>"
      ],
      "text/plain": [
       "            0         1  label\n",
       "0   -1.779171 -0.435989      0\n",
       "1   -1.779171  1.199413      4\n",
       "2   -1.739447 -1.720949      0\n",
       "3   -1.739447  1.043661      4\n",
       "4   -1.699723 -0.397051      0\n",
       "..        ...       ...    ...\n",
       "193  2.113819  1.588795      2\n",
       "194  2.391890 -1.331567      3\n",
       "195  2.391890  1.121537      2\n",
       "196  2.630236 -0.864309      3\n",
       "197  2.630236  0.926846      2\n",
       "\n",
       "[198 rows x 3 columns]"
      ]
     },
     "execution_count": 28,
     "metadata": {},
     "output_type": "execute_result"
    }
   ],
   "source": [
    "data_s['label'] = label\n",
    "data_s"
   ]
  },
  {
   "cell_type": "code",
   "execution_count": 29,
   "id": "a4af427c",
   "metadata": {},
   "outputs": [
    {
     "data": {
      "text/plain": [
       "array([[-1.33011303, -1.14026225],\n",
       "       [-0.18671971, -0.01886436],\n",
       "       [ 1.0098993 ,  1.24245028],\n",
       "       [ 1.05488046, -1.27037859],\n",
       "       [-1.35303699,  1.13569638]])"
      ]
     },
     "execution_count": 29,
     "metadata": {},
     "output_type": "execute_result"
    }
   ],
   "source": [
    "# Modle clusters..\n",
    "\n",
    "model_km.cluster_centers_"
   ]
  },
  {
   "cell_type": "code",
   "execution_count": 36,
   "id": "2fb52b63",
   "metadata": {},
   "outputs": [
    {
     "data": {
      "image/png": "[encoded data removed]",
      "text/plain": [
       "<Figure size 504x360 with 1 Axes>"
      ]
     },
     "metadata": {
      "needs_background": "light"
     },
     "output_type": "display_data"
    }
   ],
   "source": [
    "# Visualizing all 5 clusters in K-means Clustering..\n",
    "\n",
    "plt.figure(figsize=(7,5))\n",
    "sns.scatterplot(x=data_s[data_s['label']==0][0], y=data_s[data_s['label']==0][1],color='yellow',label='cluster1',s=30)\n",
    "sns.scatterplot(x=data_s[data_s['label']==1][0], y=data_s[data_s['label']==1][1],color='blue',label='cluster2',s=30)\n",
    "sns.scatterplot(x=data_s[data_s['label']==2][0], y=data_s[data_s['label']==2][1],color='cyan',label='cluster3',s=30)\n",
    "sns.scatterplot(x=data_s[data_s['label']==3][0], y=data_s[data_s['label']==3][1],color='green',label='cluster4',s=30)\n",
    "sns.scatterplot(x=data_s[data_s['label']==4][0], y=data_s[data_s['label']==4][1],color='red',label='cluster5',s=30)\n",
    "plt.xlabel('Income')\n",
    "plt.ylabel('Spending Score')\n",
    "\n",
    "# Ploting Centroids..\n",
    "\n",
    "plt.scatter(x=model_km.cluster_centers_[:,0],y=model_km.cluster_centers_[:,1], s=90,color='brown')\n",
    "plt.savefig('img.pdf')\n",
    "plt.show()"
   ]
  },
  {
   "cell_type": "markdown",
   "id": "c5b25eaf",
   "metadata": {},
   "source": [
    "### Scoring"
   ]
  },
  {
   "cell_type": "code",
   "execution_count": 31,
   "id": "de46f080",
   "metadata": {},
   "outputs": [],
   "source": [
    "# Importing silhouette score..\n",
    "\n",
    "from sklearn.metrics import silhouette_score"
   ]
  },
  {
   "cell_type": "markdown",
   "id": "c80da8a0",
   "metadata": {},
   "source": [
    "Silhouette score is a metric used to calculate the goodness of a clustering technique. Its value ranges from -1 to 1\n",
    "\n",
    " 1: Means clusters are well apart from each other and clearly distinguished.\n",
    "\n",
    " 0: Means clusters are indifferent, or we can say that the distance between clusters is not significant.\n",
    "\n",
    "-1: Means clusters are assigned in the wrong way."
   ]
  },
  {
   "cell_type": "code",
   "execution_count": 32,
   "id": "3dfc2d3e",
   "metadata": {
    "scrolled": true
   },
   "outputs": [
    {
     "data": {
      "text/plain": [
       "0.6788415892760243"
      ]
     },
     "execution_count": 32,
     "metadata": {},
     "output_type": "execute_result"
    }
   ],
   "source": [
    "# Scoring from K-Mens clustering..\n",
    "\n",
    "silhouette_score(data_s.iloc[:,[0,1,2]],data_s['label'])"
   ]
  },
  {
   "cell_type": "markdown",
   "id": "c0365b28",
   "metadata": {},
   "source": [
    "\n",
    "###  Hierarchical Clustering\n"
   ]
  },
  {
   "cell_type": "code",
   "execution_count": 33,
   "id": "d5731228",
   "metadata": {},
   "outputs": [],
   "source": [
    "# Importing Hierarchy to see hierarchy of clustering..\n",
    "\n",
    "import scipy.cluster.hierarchy as sch"
   ]
  },
  {
   "cell_type": "code",
   "execution_count": 34,
   "id": "051ca4c9",
   "metadata": {},
   "outputs": [
    {
     "ename": "SyntaxError",
     "evalue": "invalid syntax (<ipython-input-34-b694e94fe4ca>, line 5)",
     "output_type": "error",
     "traceback": [
      "\u001b[1;36m  File \u001b[1;32m\"<ipython-input-34-b694e94fe4ca>\"\u001b[1;36m, line \u001b[1;32m5\u001b[0m\n\u001b[1;33m    plt.axhline(y=13n, color='r', linestyle='--')\u001b[0m\n\u001b[1;37m                    ^\u001b[0m\n\u001b[1;31mSyntaxError\u001b[0m\u001b[1;31m:\u001b[0m invalid syntax\n"
     ]
    }
   ],
   "source": [
    "# Let's make Dendrogram\n",
    "\n",
    "plt.figure(figsize=(20,8))\n",
    "sch.dendrogram(sch.linkage(data_s.iloc[:,[0,1,2]].values, method='ward'))\n",
    "plt.axhline(y=13n, color='r', linestyle='--')\n",
    "plt.show()"
   ]
  },
  {
   "cell_type": "markdown",
   "id": "0193ed00",
   "metadata": {},
   "source": [
    "\n",
    "### Agglomerative Clustering\n"
   ]
  },
  {
   "cell_type": "code",
   "execution_count": null,
   "id": "22651612",
   "metadata": {},
   "outputs": [],
   "source": [
    "# Importing Agglomerative Clustering..\n",
    "\n",
    "from sklearn.cluster import AgglomerativeClustering"
   ]
  },
  {
   "cell_type": "code",
   "execution_count": null,
   "id": "d095c320",
   "metadata": {},
   "outputs": [],
   "source": [
    "X = data_s.iloc[:,[0,1,2]]\n",
    "model_agglo = AgglomerativeClustering(n_clusters=5)"
   ]
  },
  {
   "cell_type": "code",
   "execution_count": null,
   "id": "5e818708",
   "metadata": {},
   "outputs": [],
   "source": [
    "# Fitting the data..\n",
    "\n",
    "model_agglo.fit(data_s)"
   ]
  },
  {
   "cell_type": "code",
   "execution_count": null,
   "id": "a27470e5",
   "metadata": {},
   "outputs": [],
   "source": [
    "# Adding 'Agglo label' in data..\n",
    "\n",
    "X['Agglo_label'] = model_agglo.fit_predict(X)\n",
    "X.head()"
   ]
  },
  {
   "cell_type": "code",
   "execution_count": null,
   "id": "aa31ca8b",
   "metadata": {},
   "outputs": [],
   "source": [
    "# Making Scatterplot of all 5 clusters in Agglomerative Clustering..\n",
    "\n",
    "sns.scatterplot(x=X[X['Agglo_label']==0][0], y=X[X['Agglo_label']==0][1],color='yellow',s=30)\n",
    "sns.scatterplot(x=X[X['Agglo_label']==1][0], y=X[X['Agglo_label']==1][1],color='blue',s=30)\n",
    "sns.scatterplot(x=X[X['Agglo_label']==2][0], y=X[X['Agglo_label']==2][1],color='cyan',s=30)\n",
    "sns.scatterplot(x=X[X['Agglo_label']==3][0], y=X[X['Agglo_label']==3][1],color='green',s=30)\n",
    "sns.scatterplot(x=X[X['Agglo_label']==4][0], y=X[X['Agglo_label']==4][1],color='red',s=30)\n",
    "plt.show()"
   ]
  },
  {
   "cell_type": "markdown",
   "id": "32487ba4",
   "metadata": {},
   "source": [
    "#### Scoring"
   ]
  },
  {
   "cell_type": "code",
   "execution_count": null,
   "id": "5e9c2482",
   "metadata": {},
   "outputs": [],
   "source": [
    "# Scoring from Agglomerative  Clustering..\n",
    "\n",
    "silhouette_score(X.iloc[:,[0,1,2]],X['Agglo_label'])"
   ]
  },
  {
   "cell_type": "markdown",
   "id": "5d3cf866",
   "metadata": {},
   "source": [
    "### Type of Customers"
   ]
  },
  {
   "cell_type": "code",
   "execution_count": null,
   "id": "fcb89254",
   "metadata": {},
   "outputs": [],
   "source": []
  },
  {
   "cell_type": "markdown",
   "id": "c8cca81b",
   "metadata": {},
   "source": [
    "### Conclusion"
   ]
  },
  {
   "cell_type": "markdown",
   "id": "d00ac42c",
   "metadata": {},
   "source": [
    "By analysing the customers data we found some insight which are as follows:\n",
    "\n",
    "1.Most of the customers whome age below 40 spend MORE.\n",
    "\n",
    "2.Most of the customers whome age above 40 spend LESS.\n",
    "\n",
    "3.Female's Spending Score is more than Male's\n",
    "\n",
    "4.Basically there are 5 types of customers:\n",
    "\n",
    "                i- Income less Spend More \n",
    "                \n",
    "                ii- Income less Spend less ( according to there income )\n",
    "                \n",
    "                iii- Income normal Spend normal\n",
    "                \n",
    "                iv- Income High spend more\n",
    "                \n",
    "                v- Income High spend less \n",
    "                \n",
    "\n",
    "\n"
   ]
  },
  {
   "cell_type": "markdown",
   "id": "42578d4e",
   "metadata": {},
   "source": [
    "### Strategy:"
   ]
  },
  {
   "cell_type": "markdown",
   "id": "c1204588",
   "metadata": {},
   "source": [
    "1.As we want to understand the customers like who can be easily converge or Target Customers, We can probably focus on the 1st, 4th type of customers becouse they spend the most.\n",
    "\n",
    "2.Since 5th type of customer earn high but spend less so they could be our potential customers who can spend more.\n"
   ]
  },
  {
   "cell_type": "code",
   "execution_count": null,
   "id": "e12211ae",
   "metadata": {},
   "outputs": [],
   "source": []
  },
  {
   "cell_type": "code",
   "execution_count": null,
   "id": "17ac0cfd",
   "metadata": {},
   "outputs": [],
   "source": []
  }
 ],
 "metadata": {
  "kernelspec": {
   "display_name": "Python 3",
   "language": "python",
   "name": "python3"
  },
  "language_info": {
   "codemirror_mode": {
    "name": "ipython",
    "version": 3
   },
   "file_extension": ".py",
   "mimetype": "text/x-python",
   "name": "python",
   "nbconvert_exporter": "python",
   "pygments_lexer": "ipython3",
   "version": "3.8.8"
  }
 },
 "nbformat": 4,
 "nbformat_minor": 5
}
